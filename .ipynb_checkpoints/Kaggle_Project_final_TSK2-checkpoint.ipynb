{
 "cells": [
  {
   "cell_type": "code",
   "execution_count": 1,
   "metadata": {
    "collapsed": true
   },
   "outputs": [],
   "source": [
    "#using approximation of no. mosquitos\n",
    "import pandas as pd\n",
    "import matplotlib.pyplot as plt\n",
    "import seaborn as sns\n",
    "import numpy as np\n"
   ]
  },
  {
   "cell_type": "code",
   "execution_count": 2,
   "metadata": {
    "collapsed": true
   },
   "outputs": [],
   "source": [
    "#importing data, spray data for the test set (2008,2010,2012,2014) is not provided. Therefore, spray info is not used for the analysis\n",
    "train = pd.read_csv('./assets/train.csv')\n",
    "test =pd.read_csv('./assets/test.csv')\n",
    "weather = pd.read_csv('./assets/weather.csv')\n",
    "spray =pd.read_csv('./assets/spray.csv')\n",
    "mapdata = np.loadtxt(\"./assets/mapdata_copyright_openstreetmap_contributors.txt\")"
   ]
  },
  {
   "cell_type": "code",
   "execution_count": 3,
   "metadata": {
    "collapsed": true
   },
   "outputs": [],
   "source": [
    "from datetime import datetime\n",
    "train['Date'] = pd.to_datetime(train['Date'], format='%Y-%m-%d')\n",
    "test['Date'] = pd.to_datetime(test['Date'], format='%Y-%m-%d')\n",
    "weather['Date'] = pd.to_datetime(weather['Date'], format='%Y-%m-%d')\n",
    "spray['Date'] = pd.to_datetime(spray['Date'], format='%Y-%m-%d')"
   ]
  },
  {
   "cell_type": "code",
   "execution_count": 4,
   "metadata": {
    "collapsed": true
   },
   "outputs": [],
   "source": [
    "train['week'] = train['Date'].dt.weekofyear\n",
    "train['year'] = train['Date'].dt.year\n",
    "test['week'] = test['Date'].dt.weekofyear\n",
    "test['year'] = test['Date'].dt.year\n",
    "spray['year']=spray['Date'].dt.year"
   ]
  },
  {
   "cell_type": "code",
   "execution_count": 6,
   "metadata": {
    "collapsed": false
   },
   "outputs": [
    {
     "data": {
      "text/plain": [
       "Index([u'Date', u'Address', u'Species', u'Block', u'Street', u'Trap',\n",
       "       u'AddressNumberAndStreet', u'Latitude', u'Longitude',\n",
       "       u'AddressAccuracy', u'NumMosquitos', u'WnvPresent', u'week', u'year'],\n",
       "      dtype='object')"
      ]
     },
     "execution_count": 6,
     "metadata": {},
     "output_type": "execute_result"
    }
   ],
   "source": [
    "train.columns\n"
   ]
  },
  {
   "cell_type": "code",
   "execution_count": 7,
   "metadata": {
    "collapsed": false
   },
   "outputs": [],
   "source": [
    "train1 = train.drop(train[[1,3,4,6,7,8,9,10]], axis=1)"
   ]
  },
  {
   "cell_type": "code",
   "execution_count": 8,
   "metadata": {
    "collapsed": false
   },
   "outputs": [
    {
     "data": {
      "text/html": [
       "<div>\n",
       "<table border=\"1\" class=\"dataframe\">\n",
       "  <thead>\n",
       "    <tr style=\"text-align: right;\">\n",
       "      <th></th>\n",
       "      <th>Date</th>\n",
       "      <th>Species</th>\n",
       "      <th>Trap</th>\n",
       "      <th>WnvPresent</th>\n",
       "      <th>week</th>\n",
       "      <th>year</th>\n",
       "    </tr>\n",
       "  </thead>\n",
       "  <tbody>\n",
       "    <tr>\n",
       "      <th>0</th>\n",
       "      <td>2007-05-29</td>\n",
       "      <td>CULEX PIPIENS/RESTUANS</td>\n",
       "      <td>T002</td>\n",
       "      <td>0</td>\n",
       "      <td>22</td>\n",
       "      <td>2007</td>\n",
       "    </tr>\n",
       "  </tbody>\n",
       "</table>\n",
       "</div>"
      ],
      "text/plain": [
       "        Date                 Species  Trap  WnvPresent  week  year\n",
       "0 2007-05-29  CULEX PIPIENS/RESTUANS  T002           0    22  2007"
      ]
     },
     "execution_count": 8,
     "metadata": {},
     "output_type": "execute_result"
    }
   ],
   "source": [
    "train1.head(1)"
   ]
  },
  {
   "cell_type": "code",
   "execution_count": 9,
   "metadata": {
    "collapsed": false
   },
   "outputs": [
    {
     "data": {
      "text/plain": [
       "Index([u'Id', u'Date', u'Address', u'Species', u'Block', u'Street', u'Trap',\n",
       "       u'AddressNumberAndStreet', u'Latitude', u'Longitude',\n",
       "       u'AddressAccuracy', u'week', u'year'],\n",
       "      dtype='object')"
      ]
     },
     "execution_count": 9,
     "metadata": {},
     "output_type": "execute_result"
    }
   ],
   "source": [
    "test.columns"
   ]
  },
  {
   "cell_type": "code",
   "execution_count": 10,
   "metadata": {
    "collapsed": false
   },
   "outputs": [],
   "source": [
    "test1 =test.drop(test[[0,2,4,5,7,8,9,10]], axis=1)"
   ]
  },
  {
   "cell_type": "code",
   "execution_count": 11,
   "metadata": {
    "collapsed": false
   },
   "outputs": [
    {
     "data": {
      "text/html": [
       "<div>\n",
       "<table border=\"1\" class=\"dataframe\">\n",
       "  <thead>\n",
       "    <tr style=\"text-align: right;\">\n",
       "      <th></th>\n",
       "      <th>Date</th>\n",
       "      <th>Species</th>\n",
       "      <th>Trap</th>\n",
       "      <th>week</th>\n",
       "      <th>year</th>\n",
       "    </tr>\n",
       "  </thead>\n",
       "  <tbody>\n",
       "    <tr>\n",
       "      <th>0</th>\n",
       "      <td>2008-06-11</td>\n",
       "      <td>CULEX PIPIENS/RESTUANS</td>\n",
       "      <td>T002</td>\n",
       "      <td>24</td>\n",
       "      <td>2008</td>\n",
       "    </tr>\n",
       "    <tr>\n",
       "      <th>1</th>\n",
       "      <td>2008-06-11</td>\n",
       "      <td>CULEX RESTUANS</td>\n",
       "      <td>T002</td>\n",
       "      <td>24</td>\n",
       "      <td>2008</td>\n",
       "    </tr>\n",
       "    <tr>\n",
       "      <th>2</th>\n",
       "      <td>2008-06-11</td>\n",
       "      <td>CULEX PIPIENS</td>\n",
       "      <td>T002</td>\n",
       "      <td>24</td>\n",
       "      <td>2008</td>\n",
       "    </tr>\n",
       "    <tr>\n",
       "      <th>3</th>\n",
       "      <td>2008-06-11</td>\n",
       "      <td>CULEX SALINARIUS</td>\n",
       "      <td>T002</td>\n",
       "      <td>24</td>\n",
       "      <td>2008</td>\n",
       "    </tr>\n",
       "    <tr>\n",
       "      <th>4</th>\n",
       "      <td>2008-06-11</td>\n",
       "      <td>CULEX TERRITANS</td>\n",
       "      <td>T002</td>\n",
       "      <td>24</td>\n",
       "      <td>2008</td>\n",
       "    </tr>\n",
       "  </tbody>\n",
       "</table>\n",
       "</div>"
      ],
      "text/plain": [
       "        Date                 Species  Trap  week  year\n",
       "0 2008-06-11  CULEX PIPIENS/RESTUANS  T002    24  2008\n",
       "1 2008-06-11          CULEX RESTUANS  T002    24  2008\n",
       "2 2008-06-11           CULEX PIPIENS  T002    24  2008\n",
       "3 2008-06-11        CULEX SALINARIUS  T002    24  2008\n",
       "4 2008-06-11         CULEX TERRITANS  T002    24  2008"
      ]
     },
     "execution_count": 11,
     "metadata": {},
     "output_type": "execute_result"
    }
   ],
   "source": [
    "test1.head()"
   ]
  },
  {
   "cell_type": "code",
   "execution_count": 10,
   "metadata": {
    "collapsed": false
   },
   "outputs": [],
   "source": [
    "#train = pd.concat([train , pd.get_dummies(train['Species'])], axis=1)  "
   ]
  },
  {
   "cell_type": "code",
   "execution_count": 11,
   "metadata": {
    "collapsed": false
   },
   "outputs": [],
   "source": [
    "#test = pd.concat([test , pd.get_dummies(test['Species'])], axis=1)  "
   ]
  },
  {
   "cell_type": "code",
   "execution_count": 107,
   "metadata": {
    "collapsed": false
   },
   "outputs": [
    {
     "data": {
      "text/plain": [
       "Trap            T153\n",
       "Longitude   -87.7609\n",
       "Latitude     41.9076\n",
       "Name: 23, dtype: object"
      ]
     },
     "execution_count": 107,
     "metadata": {},
     "output_type": "execute_result"
    }
   ],
   "source": [
    "#trap.loc[23,:]"
   ]
  },
  {
   "cell_type": "code",
   "execution_count": 108,
   "metadata": {
    "collapsed": false
   },
   "outputs": [
    {
     "data": {
      "text/plain": [
       "Trap            T141\n",
       "Longitude   -87.7601\n",
       "Latitude     41.9617\n",
       "Name: 65, dtype: object"
      ]
     },
     "execution_count": 108,
     "metadata": {},
     "output_type": "execute_result"
    }
   ],
   "source": [
    "#trap.loc[65,:]"
   ]
  },
  {
   "cell_type": "code",
   "execution_count": 111,
   "metadata": {
    "collapsed": false
   },
   "outputs": [
    {
     "data": {
      "text/html": [
       "<div>\n",
       "<table border=\"1\" class=\"dataframe\">\n",
       "  <thead>\n",
       "    <tr style=\"text-align: right;\">\n",
       "      <th></th>\n",
       "      <th>Trap</th>\n",
       "      <th>Longitude</th>\n",
       "      <th>Latitude</th>\n",
       "    </tr>\n",
       "  </thead>\n",
       "  <tbody>\n",
       "    <tr>\n",
       "      <th>65</th>\n",
       "      <td>T141</td>\n",
       "      <td>-87.76007</td>\n",
       "      <td>41.961743</td>\n",
       "    </tr>\n",
       "  </tbody>\n",
       "</table>\n",
       "</div>"
      ],
      "text/plain": [
       "    Trap  Longitude   Latitude\n",
       "65  T141  -87.76007  41.961743"
      ]
     },
     "execution_count": 111,
     "metadata": {},
     "output_type": "execute_result"
    }
   ],
   "source": [
    "#trap[trap[\"Trap\" ]== 'T141' ] ##41.942285\t-87.761726"
   ]
  },
  {
   "cell_type": "code",
   "execution_count": 113,
   "metadata": {
    "collapsed": false
   },
   "outputs": [],
   "source": [
    "#trap[trap[\"Trap\" ]== 'T144' ] ##41.942285\t-87.761726"
   ]
  },
  {
   "cell_type": "code",
   "execution_count": 12,
   "metadata": {
    "collapsed": false
   },
   "outputs": [],
   "source": [
    "w30 = pd.read_csv('weather_ave_30.csv')"
   ]
  },
  {
   "cell_type": "code",
   "execution_count": 13,
   "metadata": {
    "collapsed": false
   },
   "outputs": [],
   "source": [
    "w30 = w30.drop('Datetime_Date', axis=1)\n"
   ]
  },
  {
   "cell_type": "code",
   "execution_count": 14,
   "metadata": {
    "collapsed": true
   },
   "outputs": [],
   "source": [
    "w30['Date'] = pd.to_datetime(w30['Date'], format='%Y-%m-%d')"
   ]
  },
  {
   "cell_type": "code",
   "execution_count": 15,
   "metadata": {
    "collapsed": true
   },
   "outputs": [],
   "source": [
    "# Adding the weather data to the train and test data\n",
    "train_add =train1.join(w30.set_index('Date'), on='Date')\n",
    "test_add = test1.join(w30.set_index('Date'), on='Date')"
   ]
  },
  {
   "cell_type": "code",
   "execution_count": 16,
   "metadata": {
    "collapsed": false
   },
   "outputs": [],
   "source": [
    "#get dummies for species\n",
    "train_add = pd.concat([train_add , pd.get_dummies(train_add['Species'])], axis=1) \n",
    "test_add = pd.concat([test_add , pd.get_dummies(test_add['Species'])], axis=1)  \n",
    "train_add['UNSPECIFIED CULEX']= 0\n"
   ]
  },
  {
   "cell_type": "code",
   "execution_count": 17,
   "metadata": {
    "collapsed": true
   },
   "outputs": [],
   "source": [
    "#get dummies for Traps\n",
    "train_add = pd.concat([train_add , pd.get_dummies(train_add['Trap'])], axis=1) \n",
    "test_add = pd.concat([test_add , pd.get_dummies(test_add['Trap'])], axis=1)  \n",
    "\n"
   ]
  },
  {
   "cell_type": "code",
   "execution_count": 18,
   "metadata": {
    "collapsed": false
   },
   "outputs": [],
   "source": [
    "train_add['T090A']= train_add['T090']\n",
    "train_add['T090B']= train_add['T090']\n",
    "train_add['T090C']= train_add['T090']\n",
    "train_add['T002A']= train_add['T002']\n",
    "train_add['T002B']= train_add['T002']\n",
    "train_add['T218A']= train_add['T218']\n",
    "train_add['T218B']= train_add['T218']\n",
    "train_add['T218C']= train_add['T218']\n",
    "train_add['T128A']= train_add['T128']\n",
    "train_add['T200A']= train_add['T200']\n",
    "train_add['T200B']= train_add['T200']\n",
    "train_add['T065A']= train_add['T065']\n",
    "train_add['T234']= train_add['T141'] # closest trap"
   ]
  },
  {
   "cell_type": "code",
   "execution_count": 19,
   "metadata": {
    "collapsed": false
   },
   "outputs": [
    {
     "data": {
      "text/html": [
       "<div>\n",
       "<table border=\"1\" class=\"dataframe\">\n",
       "  <thead>\n",
       "    <tr style=\"text-align: right;\">\n",
       "      <th></th>\n",
       "      <th>Date</th>\n",
       "      <th>Species</th>\n",
       "      <th>Trap</th>\n",
       "      <th>WnvPresent</th>\n",
       "      <th>week</th>\n",
       "      <th>year</th>\n",
       "      <th>Tmax</th>\n",
       "      <th>Tmin</th>\n",
       "      <th>Tavg</th>\n",
       "      <th>Depart</th>\n",
       "      <th>...</th>\n",
       "      <th>T002A</th>\n",
       "      <th>T002B</th>\n",
       "      <th>T218A</th>\n",
       "      <th>T218B</th>\n",
       "      <th>T218C</th>\n",
       "      <th>T128A</th>\n",
       "      <th>T200A</th>\n",
       "      <th>T200B</th>\n",
       "      <th>T065A</th>\n",
       "      <th>T234</th>\n",
       "    </tr>\n",
       "  </thead>\n",
       "  <tbody>\n",
       "    <tr>\n",
       "      <th>0</th>\n",
       "      <td>2007-05-29</td>\n",
       "      <td>CULEX PIPIENS/RESTUANS</td>\n",
       "      <td>T002</td>\n",
       "      <td>0</td>\n",
       "      <td>22</td>\n",
       "      <td>2007</td>\n",
       "      <td>90.0</td>\n",
       "      <td>42.0</td>\n",
       "      <td>63.275862</td>\n",
       "      <td>10.0</td>\n",
       "      <td>...</td>\n",
       "      <td>1</td>\n",
       "      <td>1</td>\n",
       "      <td>0</td>\n",
       "      <td>0</td>\n",
       "      <td>0</td>\n",
       "      <td>0</td>\n",
       "      <td>0</td>\n",
       "      <td>0</td>\n",
       "      <td>0</td>\n",
       "      <td>0</td>\n",
       "    </tr>\n",
       "    <tr>\n",
       "      <th>1</th>\n",
       "      <td>2007-05-29</td>\n",
       "      <td>CULEX RESTUANS</td>\n",
       "      <td>T002</td>\n",
       "      <td>0</td>\n",
       "      <td>22</td>\n",
       "      <td>2007</td>\n",
       "      <td>90.0</td>\n",
       "      <td>42.0</td>\n",
       "      <td>63.275862</td>\n",
       "      <td>10.0</td>\n",
       "      <td>...</td>\n",
       "      <td>1</td>\n",
       "      <td>1</td>\n",
       "      <td>0</td>\n",
       "      <td>0</td>\n",
       "      <td>0</td>\n",
       "      <td>0</td>\n",
       "      <td>0</td>\n",
       "      <td>0</td>\n",
       "      <td>0</td>\n",
       "      <td>0</td>\n",
       "    </tr>\n",
       "  </tbody>\n",
       "</table>\n",
       "<p>2 rows × 190 columns</p>\n",
       "</div>"
      ],
      "text/plain": [
       "        Date                 Species  Trap  WnvPresent  week  year  Tmax  \\\n",
       "0 2007-05-29  CULEX PIPIENS/RESTUANS  T002           0    22  2007  90.0   \n",
       "1 2007-05-29          CULEX RESTUANS  T002           0    22  2007  90.0   \n",
       "\n",
       "   Tmin       Tavg  Depart  ...   T002A  T002B  T218A  T218B  T218C  T128A  \\\n",
       "0  42.0  63.275862    10.0  ...       1      1      0      0      0      0   \n",
       "1  42.0  63.275862    10.0  ...       1      1      0      0      0      0   \n",
       "\n",
       "   T200A  T200B  T065A  T234  \n",
       "0      0      0      0     0  \n",
       "1      0      0      0     0  \n",
       "\n",
       "[2 rows x 190 columns]"
      ]
     },
     "execution_count": 19,
     "metadata": {},
     "output_type": "execute_result"
    }
   ],
   "source": [
    "train_add.head(2)\n"
   ]
  },
  {
   "cell_type": "code",
   "execution_count": 20,
   "metadata": {
    "collapsed": false
   },
   "outputs": [
    {
     "data": {
      "text/html": [
       "<div>\n",
       "<table border=\"1\" class=\"dataframe\">\n",
       "  <thead>\n",
       "    <tr style=\"text-align: right;\">\n",
       "      <th></th>\n",
       "      <th>Date</th>\n",
       "      <th>Species</th>\n",
       "      <th>Trap</th>\n",
       "      <th>week</th>\n",
       "      <th>year</th>\n",
       "      <th>Tmax</th>\n",
       "      <th>Tmin</th>\n",
       "      <th>Tavg</th>\n",
       "      <th>Depart</th>\n",
       "      <th>DewPoint</th>\n",
       "      <th>...</th>\n",
       "      <th>T231</th>\n",
       "      <th>T232</th>\n",
       "      <th>T233</th>\n",
       "      <th>T234</th>\n",
       "      <th>T235</th>\n",
       "      <th>T236</th>\n",
       "      <th>T237</th>\n",
       "      <th>T238</th>\n",
       "      <th>T900</th>\n",
       "      <th>T903</th>\n",
       "    </tr>\n",
       "  </thead>\n",
       "  <tbody>\n",
       "    <tr>\n",
       "      <th>0</th>\n",
       "      <td>2008-06-11</td>\n",
       "      <td>CULEX PIPIENS/RESTUANS</td>\n",
       "      <td>T002</td>\n",
       "      <td>24</td>\n",
       "      <td>2008</td>\n",
       "      <td>87.0</td>\n",
       "      <td>40.0</td>\n",
       "      <td>61.566667</td>\n",
       "      <td>7.0</td>\n",
       "      <td>48.9</td>\n",
       "      <td>...</td>\n",
       "      <td>0</td>\n",
       "      <td>0</td>\n",
       "      <td>0</td>\n",
       "      <td>0</td>\n",
       "      <td>0</td>\n",
       "      <td>0</td>\n",
       "      <td>0</td>\n",
       "      <td>0</td>\n",
       "      <td>0</td>\n",
       "      <td>0</td>\n",
       "    </tr>\n",
       "    <tr>\n",
       "      <th>1</th>\n",
       "      <td>2008-06-11</td>\n",
       "      <td>CULEX RESTUANS</td>\n",
       "      <td>T002</td>\n",
       "      <td>24</td>\n",
       "      <td>2008</td>\n",
       "      <td>87.0</td>\n",
       "      <td>40.0</td>\n",
       "      <td>61.566667</td>\n",
       "      <td>7.0</td>\n",
       "      <td>48.9</td>\n",
       "      <td>...</td>\n",
       "      <td>0</td>\n",
       "      <td>0</td>\n",
       "      <td>0</td>\n",
       "      <td>0</td>\n",
       "      <td>0</td>\n",
       "      <td>0</td>\n",
       "      <td>0</td>\n",
       "      <td>0</td>\n",
       "      <td>0</td>\n",
       "      <td>0</td>\n",
       "    </tr>\n",
       "  </tbody>\n",
       "</table>\n",
       "<p>2 rows × 189 columns</p>\n",
       "</div>"
      ],
      "text/plain": [
       "        Date                 Species  Trap  week  year  Tmax  Tmin       Tavg  \\\n",
       "0 2008-06-11  CULEX PIPIENS/RESTUANS  T002    24  2008  87.0  40.0  61.566667   \n",
       "1 2008-06-11          CULEX RESTUANS  T002    24  2008  87.0  40.0  61.566667   \n",
       "\n",
       "   Depart  DewPoint  ...   T231  T232  T233  T234  T235  T236  T237  T238  \\\n",
       "0     7.0      48.9  ...      0     0     0     0     0     0     0     0   \n",
       "1     7.0      48.9  ...      0     0     0     0     0     0     0     0   \n",
       "\n",
       "   T900  T903  \n",
       "0     0     0  \n",
       "1     0     0  \n",
       "\n",
       "[2 rows x 189 columns]"
      ]
     },
     "execution_count": 20,
     "metadata": {},
     "output_type": "execute_result"
    }
   ],
   "source": [
    "test_add.head(2)"
   ]
  },
  {
   "cell_type": "code",
   "execution_count": 21,
   "metadata": {
    "collapsed": true
   },
   "outputs": [],
   "source": [
    "test_add= test_add.drop('Date', axis=1)\n",
    "train_add= train_add.drop('Date', axis=1)\n",
    "test_add= test_add.drop('Species', axis=1)\n",
    "train_add= train_add.drop('Species', axis=1)\n",
    "test_add= test_add.drop('Trap', axis=1)\n",
    "train_add= train_add.drop('Trap', axis=1)\n",
    "\n"
   ]
  },
  {
   "cell_type": "code",
   "execution_count": 22,
   "metadata": {
    "collapsed": false
   },
   "outputs": [
    {
     "name": "stdout",
     "output_type": "stream",
     "text": [
      "(116293, 186)\n",
      "(10506, 187)\n"
     ]
    }
   ],
   "source": [
    "print test_add.shape\n",
    "print train_add.shape"
   ]
  },
  {
   "cell_type": "code",
   "execution_count": 23,
   "metadata": {
    "collapsed": false
   },
   "outputs": [],
   "source": [
    "y =train_add['WnvPresent']\n",
    "\n"
   ]
  },
  {
   "cell_type": "code",
   "execution_count": 130,
   "metadata": {
    "collapsed": true
   },
   "outputs": [],
   "source": [
    "train_add = train_add.drop('WnvPresent', axis=1)\n",
    "\n"
   ]
  },
  {
   "cell_type": "code",
   "execution_count": 38,
   "metadata": {
    "collapsed": false
   },
   "outputs": [
    {
     "name": "stderr",
     "output_type": "stream",
     "text": [
      "/Users/khaterehmohajery1/anaconda/lib/python2.7/site-packages/sklearn/cross_validation.py:44: DeprecationWarning: This module was deprecated in version 0.18 in favor of the model_selection module into which all the refactored classes and functions are moved. Also note that the interface of the new CV iterators are different from that of this module. This module will be removed in 0.20.\n",
      "  \"This module will be removed in 0.20.\", DeprecationWarning)\n"
     ]
    }
   ],
   "source": [
    "from sklearn.metrics import accuracy_score, precision_score, recall_score, confusion_matrix, classification_report,roc_auc_score\n",
    "from sklearn.cross_validation import cross_val_score, StratifiedKFold ,train_test_split, KFold\n",
    "from sklearn.tree import DecisionTreeClassifier \n",
    "from sklearn.ensemble import RandomForestClassifier, ExtraTreesClassifier, BaggingClassifier,AdaBoostClassifier,GradientBoostingClassifier\n",
    "from sklearn.neighbors import KNeighborsClassifier\n",
    "from sklearn.linear_model import LogisticRegression\n",
    "from sklearn.svm import SVC\n",
    "from sklearn.preprocessing import StandardScaler,MinMaxScaler\n",
    "from sklearn.model_selection import GridSearchCV\n",
    "\n"
   ]
  },
  {
   "cell_type": "code",
   "execution_count": 132,
   "metadata": {
    "collapsed": false
   },
   "outputs": [
    {
     "data": {
      "text/plain": [
       "Index([u'week', u'year', u'Tmax', u'Tmin', u'Tavg', u'Depart', u'DewPoint',\n",
       "       u'WetBulb', u'Heat', u'Cool',\n",
       "       ...\n",
       "       u'T002A', u'T002B', u'T218A', u'T218B', u'T218C', u'T128A', u'T200A',\n",
       "       u'T200B', u'T065A', u'T234'],\n",
       "      dtype='object', length=186)"
      ]
     },
     "execution_count": 132,
     "metadata": {},
     "output_type": "execute_result"
    }
   ],
   "source": [
    "train_add.columns"
   ]
  },
  {
   "cell_type": "code",
   "execution_count": 133,
   "metadata": {
    "collapsed": false
   },
   "outputs": [],
   "source": [
    "X =train_add"
   ]
  },
  {
   "cell_type": "code",
   "execution_count": 42,
   "metadata": {
    "collapsed": false
   },
   "outputs": [],
   "source": []
  },
  {
   "cell_type": "code",
   "execution_count": 43,
   "metadata": {
    "collapsed": false
   },
   "outputs": [],
   "source": [
    "#scaler = StandardScaler()\n",
    "#X= scaler.fit_transform(X)\n"
   ]
  },
  {
   "cell_type": "code",
   "execution_count": 43,
   "metadata": {
    "collapsed": false
   },
   "outputs": [],
   "source": [
    "#test_add =scaler.fit_transform(test_add)"
   ]
  },
  {
   "cell_type": "code",
   "execution_count": 134,
   "metadata": {
    "collapsed": false
   },
   "outputs": [],
   "source": [
    "X_train, X_test, y_train, y_test = train_test_split(X, y, test_size=0.33, random_state=42)\n"
   ]
  },
  {
   "cell_type": "code",
   "execution_count": 135,
   "metadata": {
    "collapsed": false
   },
   "outputs": [
    {
     "name": "stdout",
     "output_type": "stream",
     "text": [
      "best parameters for the model: {'max_features': 0.3, 'n_estimators': 5000, 'max_depth': 1.0}\n",
      "best score on train: 0.779621074179\n",
      "confusion matrix:\n",
      "   predicted_1  predicted_0\n",
      "1          159           23\n",
      "0         1379         1906\n",
      "classification_report:\n",
      "             precision    recall  f1-score   support\n",
      "\n",
      "          0       0.99      0.58      0.73      3285\n",
      "          1       0.10      0.87      0.18       182\n",
      "\n",
      "avg / total       0.94      0.60      0.70      3467\n",
      "\n",
      "Accuracy of the model on test: 0.595615806172\n"
     ]
    }
   ],
   "source": [
    "##Grid search over Random Forest parameters\n",
    "# model evaluation function\n",
    "def evaluate_model(model):\n",
    "    model.fit(X_train, y_train)\n",
    "    y_pred = model.predict(X_test)\n",
    "    \n",
    "    a = accuracy_score(y_test, y_pred)\n",
    "    probabilities = model.predict_proba(X_test)\n",
    "    #cm = confusion_matrix(y_test, y_pred)\n",
    "    conmat = np.array(confusion_matrix(y_test, y_pred, labels=[1,0]))\n",
    "\n",
    "    confusion = pd.DataFrame(conmat, index=['1', '0'],\n",
    "                         columns=['predicted_1','predicted_0'])\n",
    "\n",
    "    cr = classification_report(y_test, y_pred)\n",
    "    \n",
    "    print 'confusion matrix:'\n",
    "    print confusion\n",
    "    print 'classification_report:'\n",
    "    print cr\n",
    "    print 'Accuracy of the model on test:',a\n",
    "    return probabilities\n",
    "#params = {'max_features ': [0.5,1.0],'max_depth':[0.5,1.0],'n_estimators':[5,10]}\n",
    "max_depths = [0.3, 0.5,1.0]\n",
    "max_features = [0.3,0.5,1.0]\n",
    "n_estimators = [5000]\n",
    "\n",
    "rf = RandomForestClassifier(n_jobs=-1,random_state = 33, class_weight='balanced')\n",
    "gsrf = GridSearchCV(estimator = rf,param_grid=dict(max_depth = max_depths, max_features=max_features,n_estimators=n_estimators), n_jobs=-1,cv=3,scoring='roc_auc')\n",
    "gsrf.fit(X_train, y_train)\n",
    "print 'best parameters for the model:',gsrf.best_params_\n",
    "print 'best score on train:',gsrf.best_score_\n",
    "probability = evaluate_model(gsrf.best_estimator_)\n"
   ]
  },
  {
   "cell_type": "code",
   "execution_count": 147,
   "metadata": {
    "collapsed": false
   },
   "outputs": [
    {
     "data": {
      "text/plain": [
       "array([[ 0.81469221,  0.18530779],\n",
       "       [ 0.81540029,  0.18459971],\n",
       "       [ 0.81450442,  0.18549558],\n",
       "       ..., \n",
       "       [ 0.6976183 ,  0.3023817 ],\n",
       "       [ 0.6976183 ,  0.3023817 ],\n",
       "       [ 0.6976183 ,  0.3023817 ]])"
      ]
     },
     "execution_count": 147,
     "metadata": {},
     "output_type": "execute_result"
    }
   ],
   "source": [
    "probabilities"
   ]
  },
  {
   "cell_type": "code",
   "execution_count": 148,
   "metadata": {
    "collapsed": true
   },
   "outputs": [],
   "source": [
    "pro =probabilities[:,1]"
   ]
  },
  {
   "cell_type": "code",
   "execution_count": 149,
   "metadata": {
    "collapsed": false
   },
   "outputs": [
    {
     "data": {
      "text/plain": [
       "array([ 0.18530779,  0.18459971,  0.18549558, ...,  0.3023817 ,\n",
       "        0.3023817 ,  0.3023817 ])"
      ]
     },
     "execution_count": 149,
     "metadata": {},
     "output_type": "execute_result"
    }
   ],
   "source": [
    "pro"
   ]
  },
  {
   "cell_type": "code",
   "execution_count": 136,
   "metadata": {
    "collapsed": true
   },
   "outputs": [],
   "source": [
    "predictions =gsrf.best_estimator_.predict(test_add)\n"
   ]
  },
  {
   "cell_type": "code",
   "execution_count": null,
   "metadata": {
    "collapsed": true
   },
   "outputs": [],
   "source": []
  },
  {
   "cell_type": "code",
   "execution_count": 146,
   "metadata": {
    "collapsed": true
   },
   "outputs": [],
   "source": [
    "probabilities = gsrf.best_estimator_.predict_proba(test_add)\n",
    "pro =probabilities[:,1]"
   ]
  },
  {
   "cell_type": "code",
   "execution_count": null,
   "metadata": {
    "collapsed": true
   },
   "outputs": [],
   "source": []
  },
  {
   "cell_type": "code",
   "execution_count": 144,
   "metadata": {
    "collapsed": false
   },
   "outputs": [
    {
     "data": {
      "text/plain": [
       "116293"
      ]
     },
     "execution_count": 144,
     "metadata": {},
     "output_type": "execute_result"
    }
   ],
   "source": [
    "len(predictions)"
   ]
  },
  {
   "cell_type": "code",
   "execution_count": 139,
   "metadata": {
    "collapsed": true
   },
   "outputs": [],
   "source": [
    "predictions = pd.Series(predictions)\n",
    "submit= pd.concat([test['Id'], predictions], axis= 1)\n",
    "submit.columns=['Id','WnvPresent']\n",
    "submit.to_csv('gsrf.csv',index = False)"
   ]
  },
  {
   "cell_type": "code",
   "execution_count": 150,
   "metadata": {
    "collapsed": false
   },
   "outputs": [],
   "source": [
    "pro = pd.Series(pro)\n",
    "submit= pd.concat([test['Id'], pro], axis= 1)\n",
    "submit.columns=['Id','WnvPresent']\n",
    "submit.to_csv('gsrf_pro.csv',index = False)"
   ]
  },
  {
   "cell_type": "code",
   "execution_count": 46,
   "metadata": {
    "collapsed": false
   },
   "outputs": [
    {
     "name": "stdout",
     "output_type": "stream",
     "text": [
      "best parameters for the model: {'n_neighbors': 26}\n",
      "best score on train: 0.781501809087\n",
      "confusion matrix:\n",
      "   predicted_1  predicted_0\n",
      "1            0          182\n",
      "0            0         3285\n",
      "classification_report:\n",
      "             precision    recall  f1-score   support\n",
      "\n",
      "          0       0.95      1.00      0.97      3285\n",
      "          1       0.00      0.00      0.00       182\n",
      "\n",
      "avg / total       0.90      0.95      0.92      3467\n",
      "\n",
      "Accuracy of the model on test: 0.947505047592\n"
     ]
    }
   ],
   "source": [
    "##Grid search over Knn parameters\n",
    "# model evaluation function\n",
    "def evaluate_model(model):\n",
    "    model.fit(X_train, y_train)\n",
    "    y_pred = model.predict(X_test)\n",
    "    \n",
    "    a = accuracy_score(y_test, y_pred)\n",
    "    probabilities = model.predict_proba(X_test)\n",
    "    #cm = confusion_matrix(y_test, y_pred)\n",
    "    conmat = np.array(confusion_matrix(y_test, y_pred, labels=[1,0]))\n",
    "\n",
    "    confusion = pd.DataFrame(conmat, index=['1', '0'],\n",
    "                         columns=['predicted_1','predicted_0'])\n",
    "\n",
    "    cr = classification_report(y_test, y_pred)\n",
    "    \n",
    "    print 'confusion matrix:'\n",
    "    print confusion\n",
    "    print 'classification_report:'\n",
    "    print cr\n",
    "    print 'Accuracy of the model on test:',a\n",
    "    return probabilities\n",
    "\n",
    "n_neighbors =  range(5, 30)\n",
    "knn = KNeighborsClassifier()\n",
    "gsknn = GridSearchCV(estimator = knn,param_grid=dict( n_neighbors=n_neighbors), n_jobs=-1,cv=3,scoring='roc_auc')\n",
    "gsknn.fit(X_train, y_train)\n",
    "print 'best parameters for the model:',gsknn.best_params_\n",
    "print 'best score on train:',gsknn.best_score_\n",
    "probability = evaluate_model(gsknn.best_estimator_)\n"
   ]
  },
  {
   "cell_type": "code",
   "execution_count": 52,
   "metadata": {
    "collapsed": true
   },
   "outputs": [],
   "source": []
  },
  {
   "cell_type": "code",
   "execution_count": 67,
   "metadata": {
    "collapsed": false
   },
   "outputs": [],
   "source": [
    "\n"
   ]
  },
  {
   "cell_type": "code",
   "execution_count": 68,
   "metadata": {
    "collapsed": false
   },
   "outputs": [],
   "source": []
  },
  {
   "cell_type": "code",
   "execution_count": 69,
   "metadata": {
    "collapsed": false
   },
   "outputs": [],
   "source": [
    "\n"
   ]
  },
  {
   "cell_type": "code",
   "execution_count": 51,
   "metadata": {
    "collapsed": true
   },
   "outputs": [],
   "source": []
  },
  {
   "cell_type": "code",
   "execution_count": 45,
   "metadata": {
    "collapsed": false
   },
   "outputs": [
    {
     "name": "stdout",
     "output_type": "stream",
     "text": [
      "best parameters for the model: {'penalty': 'l1', 'C': 1.0}\n",
      "best score on train: 0.835144536791\n",
      "confusion matrix:\n",
      "   predicted_1  predicted_0\n",
      "1            0          182\n",
      "0            1         3284\n",
      "classification_report:\n",
      "             precision    recall  f1-score   support\n",
      "\n",
      "          0       0.95      1.00      0.97      3285\n",
      "          1       0.00      0.00      0.00       182\n",
      "\n",
      "avg / total       0.90      0.95      0.92      3467\n",
      "\n",
      "Accuracy of the model on test: 0.947216613787\n"
     ]
    }
   ],
   "source": [
    "##Grid search over Logestic Regression parameters\n",
    "# model evaluation function\n",
    "def evaluate_model(model):\n",
    "    model.fit(X_train, y_train)\n",
    "    y_pred = model.predict(X_test)\n",
    "   \n",
    "    a = accuracy_score(y_test, y_pred)\n",
    "    probabilities = model.predict_proba(X_test)\n",
    "#cm = confusion_matrix(y_test, y_pred)\n",
    "    conmat = np.array(confusion_matrix(y_test, y_pred, labels=[1,0]))\n",
    "\n",
    "    confusion = pd.DataFrame(conmat, index=['1', '0'],\n",
    "                        columns=['predicted_1','predicted_0'])\n",
    "\n",
    "    cr = classification_report(y_test, y_pred)\n",
    "   \n",
    "    print 'confusion matrix:'\n",
    "    print confusion\n",
    "    print 'classification_report:'\n",
    "    print cr\n",
    "    print 'Accuracy of the model on test:',a\n",
    "    return probabilities\n",
    "\n",
    "penalty =  ['l2','l1']\n",
    "C = [0.1,1.0,10]\n",
    "lg = LogisticRegression()\n",
    "gslg = GridSearchCV(estimator = lg,param_grid=dict(C=C, penalty=penalty), n_jobs=-1,cv=3,scoring='roc_auc')\n",
    "gslg.fit(X_train, y_train)\n",
    "print 'best parameters for the model:',gslg.best_params_\n",
    "print 'best score on train:',gslg.best_score_\n",
    "probability = evaluate_model(gslg.best_estimator_)"
   ]
  },
  {
   "cell_type": "code",
   "execution_count": 155,
   "metadata": {
    "collapsed": false
   },
   "outputs": [
    {
     "name": "stdout",
     "output_type": "stream",
     "text": [
      "best parameters for the model: {'max_features': 0.3, 'n_estimators': 5000, 'max_depth': 1.0}\n",
      "best score on train: 0.813846143296\n",
      "confusion matrix:\n",
      "   predicted_1  predicted_0\n",
      "1            1          181\n",
      "0            6         3279\n",
      "classification_report:\n",
      "             precision    recall  f1-score   support\n",
      "\n",
      "          0       0.95      1.00      0.97      3285\n",
      "          1       0.14      0.01      0.01       182\n",
      "\n",
      "avg / total       0.91      0.95      0.92      3467\n",
      "\n",
      "Accuracy of the model on test: 0.946062878569\n"
     ]
    }
   ],
   "source": [
    "##Grid search over Gradiant boosting\n",
    "# model evaluation function\n",
    "def evaluate_model(model):\n",
    "    model.fit(X_train, y_train)\n",
    "    y_pred = model.predict(X_test)\n",
    "    \n",
    "    a = accuracy_score(y_test, y_pred)\n",
    "    probabilities = model.predict_proba(X_test)\n",
    "    #cm = confusion_matrix(y_test, y_pred)\n",
    "    conmat = np.array(confusion_matrix(y_test, y_pred, labels=[1,0]))\n",
    "\n",
    "    confusion = pd.DataFrame(conmat, index=['1', '0'],\n",
    "                         columns=['predicted_1','predicted_0'])\n",
    "\n",
    "    cr = classification_report(y_test, y_pred)\n",
    "    \n",
    "    print 'confusion matrix:'\n",
    "    print confusion\n",
    "    print 'classification_report:'\n",
    "    print cr\n",
    "    print 'Accuracy of the model on test:',a\n",
    "    return probabilities\n",
    "#params = {'max_features ': [0.5,1.0],'max_depth':[0.5,1.0],'n_estimators':[5,10]}\n",
    "max_depths = [0.3, 1.0]\n",
    "max_features = [0.3,1.0]\n",
    "n_estimators = [5000]\n",
    "\n",
    "gbc = GradientBoostingClassifier(random_state = 33)\n",
    "gsgbc = GridSearchCV(estimator = gbc,param_grid=dict(max_depth = max_depths, max_features=max_features,n_estimators=n_estimators), n_jobs=-1,cv=3,scoring='roc_auc')\n",
    "gsgbc.fit(X_train, y_train)\n",
    "print 'best parameters for the model:',gsgbc.best_params_\n",
    "print 'best score on train:',gsgbc.best_score_\n",
    "probability = evaluate_model(gsgbc.best_estimator_)\n",
    "\n"
   ]
  },
  {
   "cell_type": "code",
   "execution_count": null,
   "metadata": {
    "collapsed": true
   },
   "outputs": [],
   "source": [
    "predictions_gbc=gsgbc.best_estimator_.predict(test_add)"
   ]
  },
  {
   "cell_type": "code",
   "execution_count": 156,
   "metadata": {
    "collapsed": true
   },
   "outputs": [],
   "source": [
    "probabilities_gbc = gsgbc.best_estimator_.predict_proba(test_add)\n",
    "pro_gbc =probabilities_gbc[:,1]"
   ]
  },
  {
   "cell_type": "code",
   "execution_count": null,
   "metadata": {
    "collapsed": true
   },
   "outputs": [],
   "source": [
    "predictions_gbc = pd.Series(predictions_gbc)\n",
    "submit= pd.concat([test['Id'], predictions_gbc], axis= 1)\n",
    "submit.columns=['Id','WnvPresent']\n",
    "submit.to_csv('gbc.csv',index = False)"
   ]
  },
  {
   "cell_type": "code",
   "execution_count": 157,
   "metadata": {
    "collapsed": true
   },
   "outputs": [],
   "source": [
    "pro_gbc = pd.Series(pro_gbc)\n",
    "submit= pd.concat([test['Id'], pro_gbc], axis= 1)\n",
    "submit.columns=['Id','WnvPresent']\n",
    "submit.to_csv('gbc_pro.csv',index = False)"
   ]
  },
  {
   "cell_type": "code",
   "execution_count": 160,
   "metadata": {
    "collapsed": false
   },
   "outputs": [],
   "source": [
    "from sklearn.model_selection import cross_val_score\n",
    "def evaluate_model(model):\n",
    "    model.fit(X_train, y_train)\n",
    "    y_pred = model.predict(X_test)\n",
    "    \n",
    "    a = accuracy_score(y_test, y_pred)\n",
    "    probabilities = model.predict_proba(X_test)\n",
    "    #cm = confusion_matrix(y_test, y_pred)\n",
    "    conmat = np.array(confusion_matrix(y_test, y_pred, labels=[1,0]))\n",
    "\n",
    "    confusion = pd.DataFrame(conmat, index=['1', '0'],\n",
    "                         columns=['predicted_1','predicted_0'])\n",
    "\n",
    "    cr = classification_report(y_test, y_pred)\n",
    "    \n",
    "    print 'confusion matrix:'\n",
    "    print confusion\n",
    "    print 'classification_report:'\n",
    "    print cr\n",
    "    print 'Accuracy of the model on test:',a\n",
    "    return probabilities\n",
    "gbc = GradientBoostingClassifier(random_state = 33,max_depth = 1.0,max_features = 0.3,n_estimators = 5000)\n",
    "gbc.fit(X_train, y_train)\n",
    "scores = cross_val_score(gbc, X_train, y_train, cv=5, scoring='roc_auc')"
   ]
  },
  {
   "cell_type": "code",
   "execution_count": null,
   "metadata": {
    "collapsed": true
   },
   "outputs": [],
   "source": [
    "pro_gbc2 = gbc.predict_proba(test_add)"
   ]
  },
  {
   "cell_type": "code",
   "execution_count": 162,
   "metadata": {
    "collapsed": false
   },
   "outputs": [
    {
     "data": {
      "text/plain": [
       "0.81899499158232802"
      ]
     },
     "execution_count": 162,
     "metadata": {},
     "output_type": "execute_result"
    }
   ],
   "source": [
    "scores.mean()"
   ]
  }
 ],
 "metadata": {
  "anaconda-cloud": {},
  "kernelspec": {
   "display_name": "Python [conda root]",
   "language": "python",
   "name": "conda-root-py"
  },
  "language_info": {
   "codemirror_mode": {
    "name": "ipython",
    "version": 2
   },
   "file_extension": ".py",
   "mimetype": "text/x-python",
   "name": "python",
   "nbconvert_exporter": "python",
   "pygments_lexer": "ipython2",
   "version": "2.7.12"
  }
 },
 "nbformat": 4,
 "nbformat_minor": 1
}
